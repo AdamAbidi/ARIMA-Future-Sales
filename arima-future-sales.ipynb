{
 "cells": [
  {
   "cell_type": "code",
   "execution_count": 1,
   "metadata": {
    "_cell_guid": "b1076dfc-b9ad-4769-8c92-a6c4dae69d19",
    "_uuid": "8f2839f25d086af736a60e9eeb907d3b93b6e0e5",
    "execution": {
     "iopub.execute_input": "2020-12-31T09:19:56.216858Z",
     "iopub.status.busy": "2020-12-31T09:19:56.215847Z",
     "iopub.status.idle": "2020-12-31T09:20:29.660796Z",
     "shell.execute_reply": "2020-12-31T09:20:29.661399Z"
    },
    "papermill": {
     "duration": 33.470449,
     "end_time": "2020-12-31T09:20:29.661606",
     "exception": false,
     "start_time": "2020-12-31T09:19:56.191157",
     "status": "completed"
    },
    "tags": []
   },
   "outputs": [
    {
     "name": "stdout",
     "output_type": "stream",
     "text": [
      "Collecting pmdarima\r\n",
      "  Downloading pmdarima-1.8.0-cp37-cp37m-manylinux1_x86_64.whl (1.5 MB)\r\n",
      "\u001b[K     |████████████████████████████████| 1.5 MB 2.8 MB/s \r\n",
      "\u001b[?25hRequirement already satisfied: scikit-learn>=0.22 in /opt/conda/lib/python3.7/site-packages (from pmdarima) (0.23.1)\r\n",
      "Requirement already satisfied: pandas>=0.19 in /opt/conda/lib/python3.7/site-packages (from pmdarima) (1.0.3)\r\n",
      "Requirement already satisfied: joblib>=0.11 in /opt/conda/lib/python3.7/site-packages (from pmdarima) (0.14.1)\r\n",
      "Collecting Cython<0.29.18,>=0.29\r\n",
      "  Downloading Cython-0.29.17-cp37-cp37m-manylinux1_x86_64.whl (2.1 MB)\r\n",
      "\u001b[K     |████████████████████████████████| 2.1 MB 22.8 MB/s \r\n",
      "\u001b[?25hRequirement already satisfied: scipy>=1.3.2 in /opt/conda/lib/python3.7/site-packages (from pmdarima) (1.4.1)\r\n",
      "Requirement already satisfied: setuptools!=50.0.0,>=38.6.0 in /opt/conda/lib/python3.7/site-packages (from pmdarima) (46.1.3.post20200325)\r\n",
      "Requirement already satisfied: statsmodels!=0.12.0,>=0.11 in /opt/conda/lib/python3.7/site-packages (from pmdarima) (0.11.1)\r\n",
      "Requirement already satisfied: urllib3 in /opt/conda/lib/python3.7/site-packages (from pmdarima) (1.24.3)\r\n",
      "Requirement already satisfied: numpy>=1.17.3 in /opt/conda/lib/python3.7/site-packages (from pmdarima) (1.18.5)\r\n",
      "Requirement already satisfied: threadpoolctl>=2.0.0 in /opt/conda/lib/python3.7/site-packages (from scikit-learn>=0.22->pmdarima) (2.1.0)\r\n",
      "Requirement already satisfied: python-dateutil>=2.6.1 in /opt/conda/lib/python3.7/site-packages (from pandas>=0.19->pmdarima) (2.8.1)\r\n",
      "Requirement already satisfied: pytz>=2017.2 in /opt/conda/lib/python3.7/site-packages (from pandas>=0.19->pmdarima) (2019.3)\r\n",
      "Requirement already satisfied: patsy>=0.5 in /opt/conda/lib/python3.7/site-packages (from statsmodels!=0.12.0,>=0.11->pmdarima) (0.5.1)\r\n",
      "Requirement already satisfied: six>=1.5 in /opt/conda/lib/python3.7/site-packages (from python-dateutil>=2.6.1->pandas>=0.19->pmdarima) (1.14.0)\r\n",
      "Installing collected packages: Cython, pmdarima\r\n",
      "  Attempting uninstall: Cython\r\n",
      "    Found existing installation: Cython 0.29.21\r\n",
      "    Uninstalling Cython-0.29.21:\r\n",
      "      Successfully uninstalled Cython-0.29.21\r\n",
      "Successfully installed Cython-0.29.17 pmdarima-1.8.0\r\n",
      "\u001b[33mWARNING: You are using pip version 20.1.1; however, version 20.3.3 is available.\r\n",
      "You should consider upgrading via the '/opt/conda/bin/python3.7 -m pip install --upgrade pip' command.\u001b[0m\r\n"
     ]
    }
   ],
   "source": [
    "import pandas as pd\n",
    "from datetime import datetime\n",
    "import matplotlib.pyplot as plt\n",
    "from statsmodels.tsa.stattools import adfuller\n",
    "!pip install pmdarima\n",
    "from pmdarima.arima import auto_arima\n",
    "from statsmodels.graphics.tsaplots import plot_pacf\n",
    "from statsmodels.graphics.tsaplots import plot_acf\n"
   ]
  },
  {
   "cell_type": "code",
   "execution_count": 2,
   "metadata": {
    "_cell_guid": "79c7e3d0-c299-4dcb-8224-4455121ee9b0",
    "_uuid": "d629ff2d2480ee46fbb7e2d37f6b5fab8052498a",
    "execution": {
     "iopub.execute_input": "2020-12-31T09:20:29.710015Z",
     "iopub.status.busy": "2020-12-31T09:20:29.709172Z",
     "iopub.status.idle": "2020-12-31T09:20:33.810846Z",
     "shell.execute_reply": "2020-12-31T09:20:33.811445Z"
    },
    "papermill": {
     "duration": 4.130237,
     "end_time": "2020-12-31T09:20:33.811634",
     "exception": false,
     "start_time": "2020-12-31T09:20:29.681397",
     "status": "completed"
    },
    "tags": []
   },
   "outputs": [],
   "source": [
    "train = pd.read_csv('../input/competitive-data-science-predict-future-sales/sales_train.csv') # train\n",
    "submit = pd.read_csv('../input/competitive-data-science-predict-future-sales/sample_submission.csv') # train\n",
    "\n",
    "train['date'] = train['date'].astype('datetime64[ns]')"
   ]
  },
  {
   "cell_type": "code",
   "execution_count": 3,
   "metadata": {
    "execution": {
     "iopub.execute_input": "2020-12-31T09:20:33.865804Z",
     "iopub.status.busy": "2020-12-31T09:20:33.865025Z",
     "iopub.status.idle": "2020-12-31T09:20:33.877928Z",
     "shell.execute_reply": "2020-12-31T09:20:33.877134Z"
    },
    "papermill": {
     "duration": 0.045348,
     "end_time": "2020-12-31T09:20:33.878077",
     "exception": false,
     "start_time": "2020-12-31T09:20:33.832729",
     "status": "completed"
    },
    "tags": []
   },
   "outputs": [],
   "source": [
    "df = train[[\"item_cnt_day\"]].copy()"
   ]
  },
  {
   "cell_type": "code",
   "execution_count": 4,
   "metadata": {
    "execution": {
     "iopub.execute_input": "2020-12-31T09:20:33.927632Z",
     "iopub.status.busy": "2020-12-31T09:20:33.926685Z",
     "iopub.status.idle": "2020-12-31T09:20:33.931150Z",
     "shell.execute_reply": "2020-12-31T09:20:33.931697Z"
    },
    "papermill": {
     "duration": 0.033977,
     "end_time": "2020-12-31T09:20:33.931865",
     "exception": false,
     "start_time": "2020-12-31T09:20:33.897888",
     "status": "completed"
    },
    "tags": []
   },
   "outputs": [
    {
     "data": {
      "text/plain": [
       "0          1.0\n",
       "1          1.0\n",
       "2         -1.0\n",
       "3          1.0\n",
       "4          1.0\n",
       "          ... \n",
       "2935844    1.0\n",
       "2935845    1.0\n",
       "2935846    1.0\n",
       "2935847    1.0\n",
       "2935848    1.0\n",
       "Name: item_cnt_day, Length: 2935849, dtype: float64"
      ]
     },
     "execution_count": 4,
     "metadata": {},
     "output_type": "execute_result"
    }
   ],
   "source": [
    "df.item_cnt_day"
   ]
  },
  {
   "cell_type": "code",
   "execution_count": 5,
   "metadata": {
    "execution": {
     "iopub.execute_input": "2020-12-31T09:20:33.982226Z",
     "iopub.status.busy": "2020-12-31T09:20:33.981418Z",
     "iopub.status.idle": "2020-12-31T10:01:38.795542Z",
     "shell.execute_reply": "2020-12-31T10:01:38.796481Z"
    },
    "papermill": {
     "duration": 2464.843697,
     "end_time": "2020-12-31T10:01:38.796722",
     "exception": false,
     "start_time": "2020-12-31T09:20:33.953025",
     "status": "completed"
    },
    "tags": []
   },
   "outputs": [
    {
     "name": "stdout",
     "output_type": "stream",
     "text": [
      "Performing stepwise search to minimize aic\n",
      " ARIMA(2,1,2)(0,0,0)[0] intercept   : AIC=332324.654, Time=216.21 sec\n",
      " ARIMA(0,1,0)(0,0,0)[0] intercept   : AIC=408421.629, Time=25.62 sec\n",
      " ARIMA(1,1,0)(0,0,0)[0] intercept   : AIC=371749.346, Time=13.84 sec\n",
      " ARIMA(0,1,1)(0,0,0)[0] intercept   : AIC=338639.184, Time=39.09 sec\n",
      " ARIMA(0,1,0)(0,0,0)[0]             : AIC=408419.629, Time=2.40 sec\n",
      " ARIMA(1,1,2)(0,0,0)[0] intercept   : AIC=inf, Time=319.14 sec\n",
      " ARIMA(2,1,1)(0,0,0)[0] intercept   : AIC=332698.256, Time=142.54 sec\n",
      " ARIMA(3,1,2)(0,0,0)[0] intercept   : AIC=332692.271, Time=232.71 sec\n",
      " ARIMA(2,1,3)(0,0,0)[0] intercept   : AIC=inf, Time=371.35 sec\n",
      " ARIMA(1,1,1)(0,0,0)[0] intercept   : AIC=334473.152, Time=70.92 sec\n",
      " ARIMA(1,1,3)(0,0,0)[0] intercept   : AIC=inf, Time=305.64 sec\n",
      " ARIMA(3,1,1)(0,0,0)[0] intercept   : AIC=332538.552, Time=215.47 sec\n",
      " ARIMA(3,1,3)(0,0,0)[0] intercept   : AIC=inf, Time=433.64 sec\n",
      " ARIMA(2,1,2)(0,0,0)[0]             : AIC=inf, Time=76.04 sec\n",
      "\n",
      "Best model:  ARIMA(2,1,2)(0,0,0)[0] intercept\n",
      "Total fit time: 2464.698 seconds\n"
     ]
    }
   ],
   "source": [
    "model = auto_arima(df[0:155000], trace=True, error_action='ignore', suppress_warnings=True)"
   ]
  },
  {
   "cell_type": "code",
   "execution_count": 6,
   "metadata": {
    "execution": {
     "iopub.execute_input": "2020-12-31T10:01:38.870317Z",
     "iopub.status.busy": "2020-12-31T10:01:38.869517Z",
     "iopub.status.idle": "2020-12-31T10:05:14.390063Z",
     "shell.execute_reply": "2020-12-31T10:05:14.388689Z"
    },
    "papermill": {
     "duration": 215.556901,
     "end_time": "2020-12-31T10:05:14.390265",
     "exception": false,
     "start_time": "2020-12-31T10:01:38.833364",
     "status": "completed"
    },
    "tags": []
   },
   "outputs": [],
   "source": [
    "result = model.fit(df[0:155000])"
   ]
  },
  {
   "cell_type": "code",
   "execution_count": 7,
   "metadata": {
    "execution": {
     "iopub.execute_input": "2020-12-31T10:05:14.455128Z",
     "iopub.status.busy": "2020-12-31T10:05:14.453922Z",
     "iopub.status.idle": "2020-12-31T10:05:18.942390Z",
     "shell.execute_reply": "2020-12-31T10:05:18.941391Z"
    },
    "papermill": {
     "duration": 4.523406,
     "end_time": "2020-12-31T10:05:18.942568",
     "exception": false,
     "start_time": "2020-12-31T10:05:14.419162",
     "status": "completed"
    },
    "tags": []
   },
   "outputs": [
    {
     "name": "stdout",
     "output_type": "stream",
     "text": [
      "                               SARIMAX Results                                \n",
      "==============================================================================\n",
      "Dep. Variable:                      y   No. Observations:               155000\n",
      "Model:               SARIMAX(2, 1, 2)   Log Likelihood             -166156.327\n",
      "Date:                Thu, 31 Dec 2020   AIC                         332324.654\n",
      "Time:                        10:05:18   BIC                         332384.361\n",
      "Sample:                             0   HQIC                        332342.424\n",
      "                             - 155000                                         \n",
      "Covariance Type:                  opg                                         \n",
      "==============================================================================\n",
      "                 coef    std err          z      P>|z|      [0.025      0.975]\n",
      "------------------------------------------------------------------------------\n",
      "intercept    3.55e-06   1.79e-05      0.199      0.843   -3.15e-05    3.86e-05\n",
      "ar.L1          0.7258      0.006    131.455      0.000       0.715       0.737\n",
      "ar.L2         -0.0156      0.001    -10.642      0.000      -0.018      -0.013\n",
      "ma.L1         -1.5092      0.005   -275.862      0.000      -1.520      -1.498\n",
      "ma.L2          0.5164      0.005     96.798      0.000       0.506       0.527\n",
      "sigma2         0.4958      0.000   4559.015      0.000       0.496       0.496\n",
      "===================================================================================\n",
      "Ljung-Box (Q):                      336.14   Jarque-Bera (JB):        4282549238.61\n",
      "Prob(Q):                              0.00   Prob(JB):                         0.00\n",
      "Heteroskedasticity (H):               1.80   Skew:                            16.74\n",
      "Prob(H) (two-sided):                  0.00   Kurtosis:                       816.63\n",
      "===================================================================================\n",
      "\n",
      "Warnings:\n",
      "[1] Covariance matrix calculated using the outer product of gradients (complex-step).\n"
     ]
    }
   ],
   "source": [
    "print(result.summary())"
   ]
  },
  {
   "cell_type": "code",
   "execution_count": 8,
   "metadata": {
    "execution": {
     "iopub.execute_input": "2020-12-31T10:05:19.010442Z",
     "iopub.status.busy": "2020-12-31T10:05:19.009636Z",
     "iopub.status.idle": "2020-12-31T10:05:27.067118Z",
     "shell.execute_reply": "2020-12-31T10:05:27.066137Z"
    },
    "papermill": {
     "duration": 8.091005,
     "end_time": "2020-12-31T10:05:27.067276",
     "exception": false,
     "start_time": "2020-12-31T10:05:18.976271",
     "status": "completed"
    },
    "tags": []
   },
   "outputs": [],
   "source": [
    "pred = result.predict(214200)"
   ]
  },
  {
   "cell_type": "code",
   "execution_count": 9,
   "metadata": {
    "execution": {
     "iopub.execute_input": "2020-12-31T10:05:27.131787Z",
     "iopub.status.busy": "2020-12-31T10:05:27.130832Z",
     "iopub.status.idle": "2020-12-31T10:05:27.134444Z",
     "shell.execute_reply": "2020-12-31T10:05:27.133693Z"
    },
    "papermill": {
     "duration": 0.038223,
     "end_time": "2020-12-31T10:05:27.134588",
     "exception": false,
     "start_time": "2020-12-31T10:05:27.096365",
     "status": "completed"
    },
    "tags": []
   },
   "outputs": [],
   "source": [
    "pred = pd.Series(pred)"
   ]
  },
  {
   "cell_type": "code",
   "execution_count": 10,
   "metadata": {
    "execution": {
     "iopub.execute_input": "2020-12-31T10:05:27.197591Z",
     "iopub.status.busy": "2020-12-31T10:05:27.196593Z",
     "iopub.status.idle": "2020-12-31T10:05:27.201167Z",
     "shell.execute_reply": "2020-12-31T10:05:27.200536Z"
    },
    "papermill": {
     "duration": 0.038064,
     "end_time": "2020-12-31T10:05:27.201302",
     "exception": false,
     "start_time": "2020-12-31T10:05:27.163238",
     "status": "completed"
    },
    "tags": []
   },
   "outputs": [],
   "source": [
    "submit.item_cnt_month = pred"
   ]
  },
  {
   "cell_type": "code",
   "execution_count": 11,
   "metadata": {
    "execution": {
     "iopub.execute_input": "2020-12-31T10:05:27.268170Z",
     "iopub.status.busy": "2020-12-31T10:05:27.263905Z",
     "iopub.status.idle": "2020-12-31T10:05:27.279883Z",
     "shell.execute_reply": "2020-12-31T10:05:27.280526Z"
    },
    "papermill": {
     "duration": 0.050919,
     "end_time": "2020-12-31T10:05:27.280719",
     "exception": false,
     "start_time": "2020-12-31T10:05:27.229800",
     "status": "completed"
    },
    "tags": []
   },
   "outputs": [
    {
     "data": {
      "text/html": [
       "<div>\n",
       "<style scoped>\n",
       "    .dataframe tbody tr th:only-of-type {\n",
       "        vertical-align: middle;\n",
       "    }\n",
       "\n",
       "    .dataframe tbody tr th {\n",
       "        vertical-align: top;\n",
       "    }\n",
       "\n",
       "    .dataframe thead th {\n",
       "        text-align: right;\n",
       "    }\n",
       "</style>\n",
       "<table border=\"1\" class=\"dataframe\">\n",
       "  <thead>\n",
       "    <tr style=\"text-align: right;\">\n",
       "      <th></th>\n",
       "      <th>ID</th>\n",
       "      <th>item_cnt_month</th>\n",
       "    </tr>\n",
       "  </thead>\n",
       "  <tbody>\n",
       "    <tr>\n",
       "      <th>0</th>\n",
       "      <td>0</td>\n",
       "      <td>1.079406</td>\n",
       "    </tr>\n",
       "    <tr>\n",
       "      <th>1</th>\n",
       "      <td>1</td>\n",
       "      <td>1.095416</td>\n",
       "    </tr>\n",
       "    <tr>\n",
       "      <th>2</th>\n",
       "      <td>2</td>\n",
       "      <td>1.105804</td>\n",
       "    </tr>\n",
       "    <tr>\n",
       "      <th>3</th>\n",
       "      <td>3</td>\n",
       "      <td>1.113099</td>\n",
       "    </tr>\n",
       "    <tr>\n",
       "      <th>4</th>\n",
       "      <td>4</td>\n",
       "      <td>1.118235</td>\n",
       "    </tr>\n",
       "    <tr>\n",
       "      <th>...</th>\n",
       "      <td>...</td>\n",
       "      <td>...</td>\n",
       "    </tr>\n",
       "    <tr>\n",
       "      <th>214195</th>\n",
       "      <td>214195</td>\n",
       "      <td>3.754721</td>\n",
       "    </tr>\n",
       "    <tr>\n",
       "      <th>214196</th>\n",
       "      <td>214196</td>\n",
       "      <td>3.754733</td>\n",
       "    </tr>\n",
       "    <tr>\n",
       "      <th>214197</th>\n",
       "      <td>214197</td>\n",
       "      <td>3.754745</td>\n",
       "    </tr>\n",
       "    <tr>\n",
       "      <th>214198</th>\n",
       "      <td>214198</td>\n",
       "      <td>3.754758</td>\n",
       "    </tr>\n",
       "    <tr>\n",
       "      <th>214199</th>\n",
       "      <td>214199</td>\n",
       "      <td>3.754770</td>\n",
       "    </tr>\n",
       "  </tbody>\n",
       "</table>\n",
       "<p>214200 rows × 2 columns</p>\n",
       "</div>"
      ],
      "text/plain": [
       "            ID  item_cnt_month\n",
       "0            0        1.079406\n",
       "1            1        1.095416\n",
       "2            2        1.105804\n",
       "3            3        1.113099\n",
       "4            4        1.118235\n",
       "...        ...             ...\n",
       "214195  214195        3.754721\n",
       "214196  214196        3.754733\n",
       "214197  214197        3.754745\n",
       "214198  214198        3.754758\n",
       "214199  214199        3.754770\n",
       "\n",
       "[214200 rows x 2 columns]"
      ]
     },
     "execution_count": 11,
     "metadata": {},
     "output_type": "execute_result"
    }
   ],
   "source": [
    "submit"
   ]
  },
  {
   "cell_type": "code",
   "execution_count": 12,
   "metadata": {
    "execution": {
     "iopub.execute_input": "2020-12-31T10:05:27.347179Z",
     "iopub.status.busy": "2020-12-31T10:05:27.346058Z",
     "iopub.status.idle": "2020-12-31T10:05:28.380234Z",
     "shell.execute_reply": "2020-12-31T10:05:28.379331Z"
    },
    "papermill": {
     "duration": 1.070187,
     "end_time": "2020-12-31T10:05:28.380373",
     "exception": false,
     "start_time": "2020-12-31T10:05:27.310186",
     "status": "completed"
    },
    "tags": []
   },
   "outputs": [],
   "source": [
    "submit.to_csv('submission.csv', index=False)  "
   ]
  }
 ],
 "metadata": {
  "kernelspec": {
   "display_name": "Python 3",
   "language": "python",
   "name": "python3"
  },
  "language_info": {
   "codemirror_mode": {
    "name": "ipython",
    "version": 3
   },
   "file_extension": ".py",
   "mimetype": "text/x-python",
   "name": "python",
   "nbconvert_exporter": "python",
   "pygments_lexer": "ipython3",
   "version": "3.7.6"
  },
  "papermill": {
   "duration": 2737.504565,
   "end_time": "2020-12-31T10:05:28.521224",
   "environment_variables": {},
   "exception": null,
   "input_path": "__notebook__.ipynb",
   "output_path": "__notebook__.ipynb",
   "parameters": {},
   "start_time": "2020-12-31T09:19:51.016659",
   "version": "2.1.0"
  }
 },
 "nbformat": 4,
 "nbformat_minor": 4
}
